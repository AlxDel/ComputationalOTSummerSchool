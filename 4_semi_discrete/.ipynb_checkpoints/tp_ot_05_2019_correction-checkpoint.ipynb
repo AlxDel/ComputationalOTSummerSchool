{
 "cells": [
  {
   "cell_type": "markdown",
   "metadata": {
    "colab_type": "text",
    "id": "mCjjCZYv1i9q"
   },
   "source": [
    "# Semi-discrete optimal transport and application to computational fluid dynamics"
   ]
  },
  {
   "cell_type": "markdown",
   "metadata": {
    "colab_type": "text",
    "id": "yOR6eye1kAeA"
   },
   "source": [
    "## Semi-discrete optimal transport"
   ]
  },
  {
   "cell_type": "markdown",
   "metadata": {
    "colab_type": "text",
    "id": "1QblHl5ckF3z"
   },
   "source": [
    "### Presentation of the toolbox\n",
    "\n",
    "$\\newcommand{\\Lag}{\\mathrm{Lag}}\n",
    "\\newcommand{\\Ker}{\\mathrm{Ker}}\n",
    "\\newcommand{\\abs}[1]{\\left| #1 \\right|}\n",
    "\\newcommand{\\sca}[2]{\\langle#1|#2\\rangle}\n",
    "\\newcommand{\\Class}{\\mathcal{C}}\n",
    "\\newcommand{\\Wass}{\\mathrm{W}}\n",
    "\\newcommand{\\D}{\\mathrm{D}}\n",
    "\\newcommand{\\B}{\\mathrm{B}}\n",
    "\\newcommand{\\one}{\\textbf{1}}\n",
    "\\newcommand{\\hdots}{\\dots}\n",
    "\\newcommand{\\dd}{\\mathrm{d}}\n",
    "\\newcommand{\\Rsp}{\\mathbb{R}}\n",
    "\\newcommand{\\eps}{\\varepsilon}\n",
    "\\newcommand{\\nr}[1]{\\|#1\\|}\n",
    "$"
   ]
  },
  {
   "cell_type": "markdown",
   "metadata": {
    "colab_type": "text",
    "id": "-pDKCzAUkiYx"
   },
   "source": [
    "We study here the optimal transport problem between a density\n",
    "$\\rho$ supported on a convex domain $\\Omega$ of $\\Rsp^2$ and a finitely supported\n",
    "measure $\\nu = \\sum_{i\\in I} \\nu_i\\delta_{y_i}$, where $I =\n",
    "\\{1,\\hdots,N\\}$. This problem can be recast as finding a Kantorovich\n",
    "potential (a vector $\\psi\\in \\Rsp^N$) satisfying the non-linear system\n",
    "of equations\n",
    "\n",
    "$$ \\tag{P}\\qquad \\forall i\\in I, G_i(\\psi) = \\nu_i, $$\n",
    "\n",
    "where\n",
    "\n",
    "$$\\begin{aligned}\n",
    "  &G_i(\\psi) = \\rho(\\Lag_i(\\psi)) := \\int_{\\Lag_i(\\psi)} \\rho(x) \\dd x,\n",
    "  \\\\ &\\Lag_i(\\psi) = \\{x \\in \\Omega\\mid \\forall j\\in I, c(x,y_i) + \\psi_i\n",
    "  \\leq c(x,y_j) + \\psi_j \\}.\n",
    "\\end{aligned}$$\n",
    "\n",
    "By default, we consider the cost $c(x,y) = \\nr{x - y}^2$.  When the set $Y$ is ambiguous, or\n",
    "we want to consider another cost $c$, we will sometime use the heavier\n",
    "notation $\\Lag^c_i(y_1,\\hdots,y_N;\\psi_1,\\hdots,\\psi_N)$ for denoting\n",
    "the $i$th Laguerre cell.  The set $\\Lag_i(\\psi) \\subseteq P$ is called\n",
    "the Laguerre cell of the $i$th point, and the collection\n",
    "$(\\Lag_i(\\psi))_{1\\leq i\\leq N}$ is called the Laguerre\n",
    "diagram.  We provide a wrapper around our code PySDOT to\n",
    "simplify the computations on Laguerre diagrams (areas and\n",
    "barycenters) when $\\rho$ is constant."
   ]
  },
  {
   "cell_type": "code",
   "execution_count": null,
   "metadata": {
    "colab": {
     "base_uri": "https://localhost:8080/",
     "height": 176
    },
    "colab_type": "code",
    "id": "RSrxMsQcd3CB",
    "outputId": "e8a01199-9f53-43b2-968f-ef08c052331b"
   },
   "outputs": [],
   "source": [
    "# uncomment the following line if you're using colab.research.google\n",
    "!pip install pysdot"
   ]
  },
  {
   "cell_type": "code",
   "execution_count": null,
   "metadata": {
    "colab": {},
    "colab_type": "code",
    "id": "WgZaR0ZNzo3L"
   },
   "outputs": [],
   "source": [
    "# imports\n",
    "from pysdot.domain_types import ConvexPolyhedraAssembly\n",
    "from pysdot.domain_types import ScaledImage\n",
    "from pysdot import PowerDiagram\n",
    "from IPython.display import clear_output\n",
    "from scipy.sparse.linalg import spsolve\n",
    "from scipy.sparse import csr_matrix\n",
    "import numpy as np\n",
    "\n",
    "\n",
    "\n",
    "# constructs a square domain, to be passed to the laguerre_* functions\n",
    "def make_square(box=[0, 0, 1, 1]):\n",
    "    domain = ConvexPolyhedraAssembly()\n",
    "    domain.add_box([box[0], box[1]], [box[2], box[3]])\n",
    "    return domain\n",
    "\n",
    "# constructs a square domain, to be passed to the laguerre_* functions\n",
    "# => trouver un nom plus explicite\n",
    "def make_image(img, box=[0, 0, 1, 1]):\n",
    "    img = img / ((box[2] - box[0]) * (box[3] - box[1]) * np.mean(img))\n",
    "    return ScaledImage([box[0], box[1]], [box[2], box[3]], img)\n",
    "\n",
    "# displays the Laguerre diagram\n",
    "# optional arguments: disp_positions=True/False (display the points Y),\n",
    "#                     disp_ids=True/Falsue (show the number of each cell),\n",
    "#                     disp_centroids=True/False (show the centroid of each cell)\n",
    "#                     disp_arrows=True/False (display arrows beween points and centroids)\n",
    "#                     hide_after=optionnal id of the first cell to be hidden. < 0 means no hide\n",
    "def laguerre_draw(domain, Y, psi, disp_ids=False, disp_positions=True, disp_centroids=False, \n",
    "            disp_arrows=False, hide_after=-1):\n",
    "    if type(psi)==list:\n",
    "        cpsi = [ -p for p in psi ]\n",
    "    else:\n",
    "        cpsi = -psi\n",
    "    display(PowerDiagram(Y, cpsi, domain).display_jupyter(\n",
    "        disp_ids=disp_ids,\n",
    "        disp_positions=disp_positions,\n",
    "        disp_centroids=disp_centroids,\n",
    "        disp_arrows=disp_arrows,\n",
    "        hide_after=hide_after\n",
    "    ))\n",
    "    \n",
    "\n",
    "# computes the areas of the Laguerre cells intersected with the domain, and returns it as an array\n",
    "# if der = True, also returns a sparse matrix representing the Jacobian of the areas with respect to psi\n",
    "def laguerre_areas(domain, Y, psi, der=False):\n",
    "    pd = PowerDiagram(Y, -psi, domain)\n",
    "    if der:\n",
    "        N = len(psi)\n",
    "        mvs = pd.der_integrals_wrt_weights()\n",
    "        return mvs.v_values, csr_matrix((-mvs.m_values, mvs.m_columns, mvs.m_offsets), shape=(N, N))\n",
    "    else:\n",
    "        return pd.integrals()\n",
    "\n",
    "# computes the centroid of the Laguerre cells intersected with the domain, and returns it as a Nx2 array\n",
    "def laguerre_centroids(domain, Y, psi):\n",
    "    return PowerDiagram(Y, -psi, domain).centroids()"
   ]
  },
  {
   "cell_type": "markdown",
   "metadata": {
    "colab_type": "text",
    "id": "8eqJY_W9Bzdx"
   },
   "source": [
    "### Numerical resolution of semi-discrete optimal transport"
   ]
  },
  {
   "cell_type": "markdown",
   "metadata": {
    "colab_type": "text",
    "id": "KzmCjnwfksVP"
   },
   "source": [
    "Equation (P) can be written as $G(\\psi) = \\nu$, where\n",
    "$G(\\psi) = (G_1(\\psi),\\hdots,G_N(\\psi))\\in\\Rsp^N$ and where $ \\nu =\n",
    "(\\nu_1,\\hdots,\\nu_N)\\in\\Rsp^N$.\n",
    "\n",
    "\n",
    "**Q1.** The applet below allows to change the value of $\\psi$ interactively. Try to solve the case $N=5$ by hand to get an understanding of what happens. "
   ]
  },
  {
   "cell_type": "code",
   "execution_count": null,
   "metadata": {
    "colab": {},
    "colab_type": "code",
    "id": "_Cw2L8yQB2FH"
   },
   "outputs": [],
   "source": [
    "# case N=5\n",
    "from ipywidgets import interact, FloatSlider\n",
    "\n",
    "N = 5\n",
    "domain = make_square()\n",
    "Y = np.array([[.15,.15],[.7,.2], [.4,.8], [.3,.5], [.7,.7]])\n",
    "    \n",
    "def disp(**kwargs):\n",
    "    psi = np.array([p for p in kwargs.values()])\n",
    "    print(\"areas=\", laguerre_areas(domain, Y, psi))\n",
    "    laguerre_draw(domain, Y, psi, disp_positions=True, disp_ids=True, disp_centroids=False)\n",
    "    \n",
    "interact(disp, **{\"psi%i\"%i : FloatSlider(min=-.1,max=.1,step=0.0001,value=0.0) for i in range(N)});"
   ]
  },
  {
   "cell_type": "markdown",
   "metadata": {
    "colab_type": "text",
    "id": "XHbWrH1_B_o-"
   },
   "source": [
    "**Q2.** Start with $N \\in \\{5,10,20\\}$ random points in the square $[0,\\frac{1}{2}]^2$, $\\Omega = [0,1]^2$, and $\\nu = (\\frac{1}{N},\\hdots,\\frac{1}{N})\\in\\Rsp^N$. Then try to use the function `scipy.optimize.fsolve`  to solve equation (P)."
   ]
  },
  {
   "cell_type": "code",
   "execution_count": null,
   "metadata": {
    "colab": {},
    "colab_type": "code",
    "id": "PgAoilrHCBJn"
   },
   "outputs": [],
   "source": [
    "from scipy.optimize import fsolve\n",
    "\n",
    "N = 10\n",
    "np.random.seed(0)\n",
    "domain = make_square()\n",
    "Y = .5 * np.random.rand(N, 2)\n",
    "nu = np.ones(N) / N\n",
    "\n",
    "### BEGINNING OF YOUR CODE\n",
    "G = lambda psi: laguerre_areas(domain, Y, psi)\n",
    "psi = fsolve(lambda psi: G(psi) - nu, np.zeros(N))\n",
    "print(np.linalg.norm(G(psi) - nu))\n",
    "### END OF YOUR CODE\n",
    "\n",
    "laguerre_draw(domain, Y, psi, disp_arrows=True)"
   ]
  },
  {
   "cell_type": "markdown",
   "metadata": {
    "colab_type": "text",
    "id": "VCPHrEPaCDi6"
   },
   "source": [
    "**Q3.** Check numerically that $G(\\psi+e) = G(\\psi)$, where $e =\n",
    "(1,\\hdots,1)\\in\\Rsp^N$ (the Laguerre cells are invariant by addition\n",
    "  of a constant to each coordinates of $\\psi$), and that $e \\in \\Ker\n",
    "  \\D G(\\psi)$, so that $\\D G(\\psi)$ is never invertible."
   ]
  },
  {
   "cell_type": "code",
   "execution_count": null,
   "metadata": {
    "colab": {},
    "colab_type": "code",
    "id": "oE8hjlSTCGR_"
   },
   "outputs": [],
   "source": [
    "N = 10\n",
    "np.random.seed(0)\n",
    "domain = make_square()\n",
    "Y = .5 * np.random.rand(N, 2)\n",
    "### BEGINNING OF YOUR CODE\n",
    "G = lambda psi: laguerre_areas(domain, Y, psi)\n",
    "DG = lambda psi: laguerre_areas(domain, Y, psi, der=True)[1]\n",
    "\n",
    "psi = .001 * np.random.rand(N)\n",
    "e = np.ones(N)\n",
    "\n",
    "print(\"|G(psi+e)-G(psi)| = %g\" % np.linalg.norm(G(psi + e) - G(psi)))\n",
    "print(\"|DG(psi)e| = %g\" % np.linalg.norm(DG(psi) @ e))\n",
    "\n",
    "print(np.linalg.eigh(DG(psi).todense())[0])\n",
    "### END OF YOUR CODE"
   ]
  },
  {
   "cell_type": "markdown",
   "metadata": {
    "colab_type": "text",
    "id": "VesyXlXCCJHx"
   },
   "source": [
    "We now turn to a much more efficient Newton's method for solving (P). Since $\\D\n",
    "G(\\psi)$ is not invertible because of the invariance by addition of a\n",
    "constant, we will fix $\\psi_N = 0$. In practice, we simply remove the\n",
    "last unknown ($\\psi_N$) and also the last equation of the system\n",
    "(which is then redundant, as $\\sum_i G_i(\\psi) = 1$), and define\n",
    "\n",
    "$$\\begin{aligned} F: \\Rsp^{N-1} &\\to \\Rsp^{N-1}\n",
    "  \\\\ \\psi' = (\\psi'_1,\\hdots,\\psi'_{N-1}) &\\mapsto\n",
    "  (G_1(\\psi'_1,\\hdots,\\psi'_{N-1},0),\\hdots,G_{N-1}(\\psi'_1,\\hdots,\\psi'_{N-1},0)).\n",
    "\\end{aligned}\n",
    "$$\n",
    "\n",
    "The iterates in Newton's algorithm are denoted with an exponent,\n",
    "${\\psi'}^{(0)},\\hdots,{\\psi'}^{(k)}\\in\\Rsp^{N-1}$.  Linearizing the equation\n",
    "$F({\\psi'}^{(k)} + d^{(k)}) = \\nu'$ (where $\\nu' = (\\nu_1,\\hdots,\\nu_{N-1})$, we get\n",
    "\n",
    "\\begin{equation} \\tag{N}\n",
    "  \\begin{cases}\n",
    "  \\D F({\\psi'}^{(k)})\\cdot d^{(k)} = \\nu' - F(\\psi^{(k)}) \\\\\n",
    "  {\\psi'}^{(k+1)} = {\\psi'}^{(k)} + d^{(k)}\n",
    "\\end{cases}\n",
    "\\end{equation}\n",
    "\n",
    "\n",
    "**Q4.** Compute $\\D F(\\psi_1,\\hdots,\\psi_{N-1})$ explicitly and prove that if $\\Ker \\D\n",
    "  G(\\psi_1,\\hdots,\\psi_{N-1},0) = \\Rsp e$, then $\\D F(\\psi_1,\\hdots,\\psi_{N-1})$ is\n",
    "  invertible. Implement Newton's method for solving (P). Test\n",
    "  it for $N \\in \\{10,100,1000\\}$ random iid points in $[0,1]^2$, $\\Omega =\n",
    "  [0,1]^2$ and $\\nu = \\frac{1}{N} e \\in \\Rsp^N$."
   ]
  },
  {
   "cell_type": "code",
   "execution_count": null,
   "metadata": {
    "colab": {},
    "colab_type": "code",
    "id": "62i8tipZCOHX"
   },
   "outputs": [],
   "source": [
    "# use spsolve to solve the linear system\n",
    "\n",
    "N = 10\n",
    "np.random.seed(0)\n",
    "domain = make_square()\n",
    "Y = np.random.rand(N, 2)\n",
    "nu = np.ones(N)/N\n",
    "\n",
    "### BEGINNING OF YOUR CODE\n",
    "F = lambda psip: laguerre_areas(domain, Y, np.hstack((psip, 0)))[0:-1]\n",
    "DF = lambda psip: laguerre_areas(domain, Y, np.hstack((psip, 0)), der=True)[1][0:-1, 0:-1]\n",
    "\n",
    "psip = np.zeros(N-1)\n",
    "nup = nu[0:-1]\n",
    "it = 0\n",
    "\n",
    "while True:\n",
    "    laguerre_draw(domain, Y, np.hstack((psip, 0)))\n",
    "    print(\"it=%d: |F - nu| = %g\" % (it, np.linalg.norm(F(psip) - nup)))\n",
    "    it += 1\n",
    "    if np.linalg.norm(nup - F(psip)) <= 1e-6:\n",
    "        break\n",
    "    d = spsolve(DF(psip), nup - F(psip))\n",
    "    psip = psip + d\n",
    "psi = np.hstack((psip, 0))\n",
    "\n",
    "### END OF YOUR CODE\n",
    "laguerre_draw(domain, Y, psi)\n"
   ]
  },
  {
   "cell_type": "markdown",
   "metadata": {
    "colab_type": "text",
    "id": "0pSY38kNDI-3"
   },
   "source": [
    "A sufficient condition for the invertibility of $\\D F(\\psi')$ is that $\\psi'\\in \\mathcal{K}$ where\n",
    "\n",
    "$$\\mathcal{K} = \\{ \\psi'\\in\\Rsp^{N-1} \\mid \\forall i\n",
    "\\in\\{1,\\hdots, N-1\\}, \\quad F_i(\\psi')  > 0 \\}.\n",
    "$$\n",
    "\n",
    "In practice, this condition is ensured throught a simple\n",
    "backtracking procedure: one takes ${\\psi'}^{(k+1)} = {\\psi'}^{(k)} +\n",
    "t^{(k)} d^{(k)}$ where $t^{(k)} \\in (0,1]$ is chosen small enough so\n",
    "  that ${\\psi'}^{(k+1)} \\in \\mathcal{K}$. This procedure is\n",
    "  implemented in the function `optimal_transport(P,Y,nu,psi0)` provided below. The last \n",
    "  parameter `psi0`$\\in \\Rsp^N$ is optional, default to $0\\in \\Rsp^N$, and should be chosen so that\n",
    "  \n",
    "  \\begin{equation}\n",
    "    \\forall i\\in I, G_i(\\psi^{(0)}) > 0.\n",
    "  \\end{equation}  "
   ]
  },
  {
   "cell_type": "code",
   "execution_count": null,
   "metadata": {
    "colab": {},
    "colab_type": "code",
    "id": "iqKSUdusDKRR"
   },
   "outputs": [],
   "source": [
    "def optimal_transport(domain, Y, nu, psi0=None, verbose=False, maxerr=1e-6, maxiter=20):\n",
    "    if psi0 is None:\n",
    "        psi0 = np.zeros(len(nu))\n",
    "        \n",
    "    def F(psip):\n",
    "        g,h = laguerre_areas(domain, Y, np.hstack((psip,0)), der=True)\n",
    "        return g[0:-1], h[0:-1,0:-1]\n",
    "    \n",
    "    psip = psi0[0:-1] - psi0[-1]\n",
    "    nup = nu[0:-1]\n",
    "    g,h = F(psip)\n",
    "    for it in range(maxiter):\n",
    "        err = np.linalg.norm(nup - g)\n",
    "        if verbose:\n",
    "            print(\"it %d: |err| = %g\" % (it, err))\n",
    "        if err <= maxerr:\n",
    "            break\n",
    "        d = spsolve(h, nup - g)\n",
    "        t = 1.\n",
    "        psip0 = psip.copy()\n",
    "        while True:\n",
    "            psip = psip0 + t * d\n",
    "            g,h = F(psip)\n",
    "            if np.min(g) > 0:\n",
    "                break\n",
    "            else:\n",
    "                t = t/2\n",
    "    return np.hstack((psip,0))"
   ]
  },
  {
   "cell_type": "markdown",
   "metadata": {
    "colab_type": "text",
    "id": "awgD-bjgDSe4"
   },
   "source": [
    "### Application to optimal quantization"
   ]
  },
  {
   "cell_type": "markdown",
   "metadata": {
    "colab_type": "text",
    "id": "AeI5Zus1k27m"
   },
   "source": [
    "\n",
    "In optimal quantization, one wishes to approximate a probability density $\\rho$ over a domain $\\Omega\\subseteq \\Rsp^d$ by a finitely supported measure of the form $\\mu = \\frac{1}{N} \\sum_{1\\leq i\\leq N} \\delta_{y_i}$ in an optimal way, i.e. so as to minimize the quantization energy \n",
    "\n",
    "$$ \\mathcal{D}(y_1,\\hdots,y_N) = N \\Wass_2^2(\\rho, \\frac{1}{N} \\sum_{1\\leq i\\leq N} \\delta_{y_i}) $$\n",
    "\n",
    "As shown in the course \n",
    "\n",
    "$$ \\nabla_{y_i} \\mathcal{D}(y_1,\\hdots,y_N) = y_i - b(y_1,\\hdots,y_N) $$ \n",
    "\n",
    "where  $b_i(y_1,\\hdots,y_N)$ is defined as follows:\n",
    "- first, compute $\\psi\\in\\Rsp^N$ the Kantorovich potential in\n",
    "    the optimal transport problem between the $\\rho$ on $\\Omega$ and\n",
    "    $\\nu = \\frac{1}{N}\\sum_{i\\in I} \\delta_{y_i}$.\n",
    "- $b_i(y_1,\\hdots,y_N)$ is then the centroid of the Laguerre\n",
    "    cell $\\Lag_i(y_1,\\hdots,y_N;\\psi_1,\\hdots,\\psi_N)$ weighted by the density $\\rho$.\n",
    "\n",
    "**Q5.**  Using the parameter `disp_arrow` of the function `laguerre_draw`,  observe the paths from the diracs to the centroids when\n",
    "  - $\\Omega = [-\\frac{1}{2},\\frac{1}{2}]^2$\n",
    "  - $\\rho = \\one_{\\Omega}$\n",
    "  - $y_1,\\hdots,y_N$ are random iid in $\\Omega$ and then in $\\frac{1}{2}\\Omega$"
   ]
  },
  {
   "cell_type": "code",
   "execution_count": null,
   "metadata": {
    "colab": {},
    "colab_type": "code",
    "id": "HEnKqcXmDbEQ"
   },
   "outputs": [],
   "source": [
    "### BEGINNING OF YOUR CODE\n",
    "N = 100\n",
    "domain = make_square([-.5, -.5, .5, .5])\n",
    "nu = np.ones(N) / N\n",
    "\n",
    "np.random.seed(0)\n",
    "Y = -.5 + np.random.rand(N, 2)\n",
    "psi = optimal_transport(domain, Y, nu, verbose=False)\n",
    "laguerre_draw(domain, Y, psi, disp_arrows=True, disp_centroids=True)\n",
    "### END OF YOUR CODE"
   ]
  },
  {
   "cell_type": "code",
   "execution_count": null,
   "metadata": {
    "colab": {},
    "colab_type": "code",
    "id": "IeHjP4OUEoP7"
   },
   "outputs": [],
   "source": [
    "### BEGINNING OF YOUR CODE\n",
    "np.random.seed(0)\n",
    "Y = -.5 + .5*np.random.rand(N, 2)\n",
    "psi = optimal_transport(domain, Y, nu)\n",
    "laguerre_draw(domain, Y, psi, disp_arrows=True, disp_centroids=True)\n",
    "### END OF YOUR CODE"
   ]
  },
  {
   "cell_type": "markdown",
   "metadata": {
    "colab_type": "text",
    "id": "rku5d4NZFHYO"
   },
   "source": [
    "A simple algorithm for optimal quantization consists in performing gradient descent on $\\mathcal{D}$, e.g. \n",
    "\n",
    "$$ \\begin{cases} Y^{(0)} \\in \\Rsp^{2 N} \\\\\n",
    "Y^{(k+1)} = Y^{(k)} - \\tau \\nabla \\mathcal{D}(Y^{(k)})\n",
    "\\end{cases} $$\n",
    "\n",
    "**Q6.** Implement and test this algorithm for $\\rho = \\one_{\\Omega}$, starting with $Y^{(0)}$ a family of i.i.d random points in $\\Omega$.\n",
    "\n",
    "Check the formation of hexagonal patterns (as predicted by a theorem of L. Fejes Toth), by displaying the Laguerre diagram after the last iteration."
   ]
  },
  {
   "cell_type": "code",
   "execution_count": null,
   "metadata": {
    "colab": {
     "base_uri": "https://localhost:8080/",
     "height": 420
    },
    "colab_type": "code",
    "id": "B_koIxgoFIWS",
    "outputId": "58f59aa2-02e7-4730-ffa1-e7d0fd9ef87a"
   },
   "outputs": [],
   "source": [
    "def optimal_quantization(domain, Y, tau=.1, niter=50, nstep_to_disp=0):\n",
    "    d = np.arange(nstep_to_disp) * (niter - 1) // (nstep_to_disp - 1 + (nstep_to_disp==1))\n",
    "    for i in range(niter):\n",
    "        m = domain.measure() / Y.shape[0]\n",
    "        psi = optimal_transport(domain, Y, m * np.ones(Y.shape[0]), verbose=False)\n",
    "        if i in d:\n",
    "            clear_output(True)\n",
    "            laguerre_draw(domain, Y, psi, disp_centroids=True)\n",
    "        if i + 1 == niter:\n",
    "          break\n",
    "        ### BEGINNING OF YOUR CODE\n",
    "        B = laguerre_centroids(domain, Y, psi)\n",
    "        Y = Y + tau * (B - Y)\n",
    "        ### END OF YOUR CODE\n",
    "    return Y, psi\n",
    "  \n",
    "### BEGINNING OF YOUR CODE\n",
    "N = 1000\n",
    "np.random.seed(0)\n",
    "domain = make_square()\n",
    "Y, psi = optimal_quantization(domain, 0.7 * np.random.rand(N,2), nstep_to_disp=5)\n",
    "### END OF YOUR CODE"
   ]
  },
  {
   "cell_type": "markdown",
   "metadata": {
    "colab_type": "text",
    "id": "863SWi-DxKK3"
   },
   "source": [
    "**Q7** Test `optimal_quantization` for $\\rho = \\frac{1}{Z}\\exp(-2 \\nr{\\cdot}^2) \\one_{\\Omega}$, where $\\Omega = [-\\frac{1}{2},\\frac{1}{2}]$ and $Z$ is a normalizing constant\n",
    "(NB: one can implement a non-constant density by using the function `make_image(img,box)`, which constructs a normalized piecewise constant probability density from an image and a bounding box.) "
   ]
  },
  {
   "cell_type": "code",
   "execution_count": null,
   "metadata": {
    "colab": {
     "base_uri": "https://localhost:8080/",
     "height": 421
    },
    "colab_type": "code",
    "id": "F8OpRwrBEZ0i",
    "outputId": "206db358-d814-4a72-a409-1983b99155cc"
   },
   "outputs": [],
   "source": [
    "N = 1000\n",
    "n = 20\n",
    "np.random.seed(0)\n",
    "t = np.linspace(-1,1,n)\n",
    "x, y = np.meshgrid(t,t)\n",
    "img = np.exp(-2*(x**2 + y**2))\n",
    "\n",
    "### BEGINNING OF YOUR CODE\n",
    "domain = make_image(img, box=[0,0,1,1])\n",
    "Y, psi = optimal_quantization(domain, np.random.rand(N, 2), tau=.2, nstep_to_disp=5)\n",
    "### END OF YOUR CODE"
   ]
  },
  {
   "cell_type": "markdown",
   "metadata": {
    "colab_type": "text",
    "id": "51TEM42UKewm"
   },
   "source": [
    "### Application to  Euler's equations for incompressible fluids\n"
   ]
  },
  {
   "cell_type": "markdown",
   "metadata": {
    "colab_type": "text",
    "id": "IncxCJiVk-Oy"
   },
   "source": [
    "Given a domain $\\Omega \\subseteq \\Rsp^2$, an initial velocity field $u_0:\n",
    "\\Omega\\to\\Rsp$ and an initial configuration of points $Y(0) =\n",
    "(y_1(0),\\hdots,y_N(0))\\in\\Rsp^d$, we consider the following system of\n",
    "ODE as an approximation of Euler's equations for incompressible\n",
    "fluids, where $b_i$ is defined above:\n",
    "\n",
    "\\begin{equation}  \\tag{Euler}\n",
    "  \\begin{cases}\n",
    "    \\ddot{y}_i(t) = \\frac{1}{\\eps} (b_i(y_1(t),\\hdots,y_N(t)) - y_i(t)) \\\\\n",
    "    \\dot{y}_i(0) = u_0(Y_i(t)) \\\\\n",
    "  \\end{cases}\n",
    "\\end{equation}"
   ]
  },
  {
   "cell_type": "markdown",
   "metadata": {
    "colab_type": "text",
    "id": "bhceJx4SKfwq"
   },
   "source": [
    "**Q8.** Implement the symplectic Euler scheme to solve the ODE (Euler):\n",
    "\n",
    "  $$ \\begin{cases}\n",
    "    u_i^{(n+1)} = u_i^{(n)} + \\frac{\\tau}{\\eps^2}(b_i(y_1,\\hdots,y_n) - y_i)\\\\\n",
    "    y_i^{(n+1)} = y_i^{(n)} + \\tau u_i^{(n+1)} \\\\  \n",
    "    [y_1^{(0)},\\hdots,y_N^{(0)}] = \\texttt{barycenters(rand(N,2)-.5)} \\\\\n",
    "    v_i^{(0)} = u_0(y_i^{(0)}). \n",
    "  \\end{cases}\n",
    "  $$\n",
    "  \n",
    "  As it can be quite tricky to select the parameters, we suggest: \n",
    "  - $\\Omega = [-\\frac{1}{2}, \\frac{1}{2}]^2$, \n",
    "  - $N=400$, $\\eps = 0.05$, $\\tau = 0.002$\n",
    "  - $u_0(y_1,y_2) = (-\\cos(\\pi y_1) \\sin(\\pi y_2), \\sin(\\pi y_1) \\cos(\\pi y_2)).$"
   ]
  },
  {
   "cell_type": "code",
   "execution_count": null,
   "metadata": {
    "colab": {
     "base_uri": "https://localhost:8080/",
     "height": 421
    },
    "colab_type": "code",
    "id": "Pcx8Hd5bKk2G",
    "outputId": "bc79dc98-e815-4cf1-c3b9-8d6bacfb16c2"
   },
   "outputs": [],
   "source": [
    "N = 300\n",
    "np.random.seed(0)\n",
    "domain = make_square([-.5,-.5,.5,.5])\n",
    "\n",
    "Y, psi = optimal_quantization(domain, -.5 + np.random.rand(N, 2))\n",
    "U = np.zeros_like(Y)\n",
    "U[:,0] = -np.cos(np.pi * Y[:, 0]) * np.sin(np.pi * Y[:, 1])\n",
    "U[:,1] = np.sin(np.pi * Y[:, 0]) * np.cos(np.pi * Y[:, 1])\n",
    "tau = 0.001\n",
    "eps = 0.05\n",
    "\n",
    "# Symplectic Euler\n",
    "hist_Y, hist_psi = [], []\n",
    "for i in range(200):\n",
    "    ### BEGINNING OF YOUR CODE\n",
    "    psi = optimal_transport(domain, Y, np.ones(N)/N, verbose=False)\n",
    "    B = laguerre_centroids(domain, Y, psi)\n",
    "    U = U + tau/eps**2 * (B - Y)\n",
    "    Y = Y + tau * U\n",
    "    ### END OF YOUR CODE\n",
    "\n",
    "    if i % 20 == 0:\n",
    "        clear_output(True)\n",
    "        laguerre_draw(domain, Y, psi)\n",
    "    hist_psi.append(psi)\n",
    "    hist_Y.append(Y)\n",
    "\n",
    "clear_output(True)\n",
    "laguerre_draw(domain, hist_Y[::5], hist_psi[::5])"
   ]
  },
  {
   "cell_type": "markdown",
   "metadata": {
    "colab_type": "text",
    "id": "hJDVG_B4MnJ5"
   },
   "source": [
    "## Partial optimal transport and crowd motion"
   ]
  },
  {
   "cell_type": "markdown",
   "metadata": {
    "colab_type": "text",
    "id": "iWFKFiXMlIDI"
   },
   "source": [
    "### Partial optimal transport "
   ]
  },
  {
   "cell_type": "markdown",
   "metadata": {
    "colab_type": "text",
    "id": "-xZd42MElM9O"
   },
   "source": [
    "As before, we assume that $\\rho$ is a density on a domain\n",
    "$\\Omega\\subseteq \\Rsp^2$ and $\\nu = \\frac{\\alpha}{N}\\sum_{i\\in\n",
    "  I}\\delta_{y_i}$. However, in _partial optimal transport_, one\n",
    "assumes that the total mass of $\\nu$ is strictly less than the mass of\n",
    "$\\rho$, i.e. $\\alpha < \\rho(P)$. The effect of the constant $\\alpha$\n",
    "is displayed in figure below. It is possible to turn\n",
    "partial optimal transport into classical optimal transport as follows:\n",
    "- introduce a fictive point $y_{\\infty}$ which will receive the\n",
    "    left-over mass. Set $\\widetilde{I} = I \\cup \\{+\\infty\\} =\n",
    "    \\{1,\\hdots,N,+\\infty\\}$ and $\\widetilde{\\nu} = \\alpha\n",
    "    \\delta_{y_\\infty} + \\nu$ ;\n",
    "- introduce a modified cost $\\widetilde{c}(x,y_i) = \\nr{x -\n",
    "    y_i}^2$ if $i\\in I$ and $c(x,y_\\infty) = 0$. \n",
    "    \n",
    "With this cost, it is free to move mass to the fictive point $y_\\infty$.\n",
    "Then, as in classical optimal transport, one wishes to solve the\n",
    "non-linear system\n",
    "\n",
    "$$\\forall i\\in I, \\widetilde{G}_i(\\widetilde{\\psi}) =\n",
    "\\nu_i$$\n",
    "\n",
    "where \n",
    "- $\\widetilde{\\psi} = (\\psi_1,\\hdots,\\psi_N,\\psi_\\infty)\n",
    "\\in \\Rsp^{N+1}$, \n",
    "- $\\widetilde{G}_i(\\widetilde{\\psi}) =\n",
    "\\mathrm{area}(\\widetilde{\\Lag}_i(\\psi))$ and \n",
    "$$\\begin{align*}\n",
    "  \\widetilde{\\Lag}_i(\\psi_1,\\hdots,\\psi_N,\\psi_\\infty) &=\n",
    "  \\Lag_i^{\\tilde{c}}(y_1,\\hdots,y_N,y_\\infty,\\psi_1,\\hdots,\\psi_N,0)\n",
    "  \\\\ &=\\{ x\\in P \\mid \\forall j\\in \\widetilde{I}, \\widetilde{c}(x,y_i)\n",
    "  + \\psi_j \\leq \\widetilde{c}(x,y_j) + \\psi_j\\}\n",
    "\\end{align*}$$\n",
    "\n",
    "**Q9.** Check that for all $i\\in I$, \n",
    "  $\\widetilde{\\Lag}_i(\\widetilde{\\psi}) = \\Lag_i(y_1,\\hdots,y_N;\\psi)\n",
    "  \\cap \\B(y_i, \\sqrt{\\psi_\\infty-\\psi_i}), $ where $\\Lag_i(\\psi)$ is\n",
    "  the usual Laguerre cell (as defined in the first part) and $\\B(y,r)$ is the ball centered at $y$ with radius $r$.\n",
    "   \n",
    "  \n",
    "<table>\n",
    "    <tbody>\n",
    "        <tr>\n",
    "            <td> <img src=\"https://www.dropbox.com/s/8p625w5x8trah0r/partial-0.jpg?dl=1\" width=\"100%\" /> </td>\n",
    "            <td> <img src=\"https://www.dropbox.com/s/i2g929h4a3a7kbv/partial-1.jpg?dl=1\" width=\"100%\" /> </td>\n",
    "            <td> <img src=\"https://www.dropbox.com/s/pgqa76dhpgbuo6y/partial-2.jpg?dl=1\" width=\"100%\" /> </td> \n",
    "            <td> <img src=\"https://www.dropbox.com/s/77r977gvv8a7oyj/partial-3.jpg?dl=1\" width=\"100%\" /> </td>\n",
    "        </tr>\n",
    "    </tbody>\n",
    "    <caption> Partial optimal transport between the measure $\\nu =\n",
    "    \\frac{\\alpha}{N} \\sum_{1\\leq i\\leq N} \\delta_{y_i}$ and $\\rho =\n",
    "    \\one_{[-1,1]^2}$. The first figure displays the points $y_i$ and\n",
    "    the next figures display the Laguerre cells obtained for $\\alpha\n",
    "    =1,2,3$ respectively. The Laguerre cells in multiple colors\n",
    "    correspond the portion of the domain $[-1,1]^2$ that will be\n",
    "        transported towards $\\nu$. </caption>\n",
    "</table>\n",
    "\n",
    "\n",
    "Test `partial_optimal_transport` (given below) with total masses equal to 1.5, 1.0 and 0.5 (in a larger domain). The function `partial_optimal_transport` returns an object with the class `PowerDiagram`. This class contains a few member functions such as \n",
    "- `display_jupyter`, with the same arguments as the global function you have already used\n",
    "- `centroids`, which returns the centroids of the Laguerre cells $\\widetilde{\\Lag}_i$.\n"
   ]
  },
  {
   "cell_type": "code",
   "execution_count": null,
   "metadata": {
    "colab": {
     "base_uri": "https://localhost:8080/",
     "height": 421
    },
    "colab_type": "code",
    "id": "WBVHp9gPbol0",
    "outputId": "8c12296b-5da8-4de8-87af-43fe84e0bb57"
   },
   "outputs": [],
   "source": [
    "from pysdot.radial_funcs import RadialFuncInBall\n",
    "from pysdot import OptimalTransport\n",
    "\n",
    "def partial_optimal_transport(domain, Y, nu, psi0 = None):\n",
    "    if psi0 == None:\n",
    "        psi = -np.sqrt(nu)\n",
    "    else:\n",
    "        psi = -psi0.copy()\n",
    "    ot = OptimalTransport(Y, -psi, domain, radial_func=RadialFuncInBall())\n",
    "    ot.set_masses(nu)\n",
    "    ot.adjust_weights()\n",
    "    return ot.pd\n",
    "\n",
    "  \n",
    "### BEGINNING OF YOUR CODE\n",
    "N = 100\n",
    "np.random.seed(0)\n",
    "Y = np.random.rand(N,2)\n",
    "\n",
    "nu = 1.5*np.ones(N)/N\n",
    "domain = make_square([0,0,10,10])\n",
    "\n",
    "pd = partial_optimal_transport(domain, Y, nu)\n",
    "pd.display_jupyter(disp_ids=False)\n",
    "### BEGINNING OF YOUR CODE\n"
   ]
  },
  {
   "cell_type": "markdown",
   "metadata": {
    "colab_type": "text",
    "id": "c7W9X3wYbyC9"
   },
   "source": [
    "### Discretization of a crowd motion model\n"
   ]
  },
  {
   "cell_type": "markdown",
   "metadata": {
    "colab_type": "text",
    "id": "nYSodogwlcBz"
   },
   "source": [
    "In this model, the crowd is described by a finite sum of Dirac masses\n",
    "$\\nu(t) = \\frac{\\alpha}{N}\\sum_{1\\leq i\\leq N} \\delta_{y_i}(t)$,\n",
    "living in a domain $\\Omega$ (the ``room'') with area strictly larger than $\\alpha$. For\n",
    "simplicity, we will assume that $\\alpha = 1$. They\n",
    "are subject to two forces: the first force is minus the gradient of a\n",
    "potential $V$ (corresponding to the fact that they want, for instance\n",
    "to go towards the exit of the room) and the second force corresponds\n",
    "to congestion, and is enforced through partial optimal transport:\n",
    "\n",
    "$$\n",
    "\\begin{equation}  \\tag{Crowd}\n",
    "    \\dot{y}_i(t) = -\\nabla V(y_i(t)) + \\frac{1}{\\eps} (c_i(y_1(t),\\hdots,y_N(t)) - y_i(t)) \\\\\n",
    "\\end{equation}\n",
    "$$\n",
    "\n",
    "As before, $c_i(y_1(t),\\hdots,y_N(t))$ is the barycenter of the $i$th\n",
    "Laguerre cell in the partial transport between $\\nu(t)$ and $\\rho$. As\n",
    "explained in the course, the sum\n",
    "$$\\frac{\\alpha}{N} \\sum_{i=1}^N\n",
    "\\nr{c_i(y_1(t),\\hdots,y_N(t))-y_i(t)}^2 = \\min_{\\sigma \\leq \\rho,\n",
    "  \\sigma(P) = \\alpha} \\mathrm{W}_2^2(\\nu(t),\\sigma),$$ measures how\n",
    "far the measure $\\nu(t)$ is from satisfying the congestion constraint.\n",
    "\n",
    "**Q10** Considering $V(x,y) = y$, $\\Omega = [0,4]^2$ and a crowd uniformly distributed in the $[1.5,0.5]\\times[3,2]$ square, implement and test the (Crowd) model.\n"
   ]
  },
  {
   "cell_type": "code",
   "execution_count": null,
   "metadata": {
    "colab": {
     "base_uri": "https://localhost:8080/",
     "height": 421
    },
    "colab_type": "code",
    "id": "Ph1D4twu0vrf",
    "outputId": "cee943fb-ccd7-4012-a6cc-3ec143522ee2"
   },
   "outputs": [],
   "source": [
    "# constants\n",
    "N = 100 # nb diracs\n",
    "b = [1.5,0.5,3,2] # initial box\n",
    "m = (b[2] - b[0]) * (b[3] - b[1]) / N\n",
    "nu = m * np.ones( N ) # masses\n",
    "epsilon = 0.5 * m**0.5\n",
    "timestep = epsilon / 2\n",
    "\n",
    "# initial positions\n",
    "Y, psi = optimal_quantization(make_square(b), b[0:2] + 1.5 * np.random.rand(N, 2))\n",
    "\n",
    "# domain\n",
    "domain = make_square([0, 0, 4, 4])\n",
    "\n",
    "# iterations\n",
    "Y_hist = []\n",
    "psi_hist = []\n",
    "for num_time_step in range(100):\n",
    "    # below, we compute the solution pd of the partial transport problem, and\n",
    "    # update Y accordingly\n",
    "    \n",
    "    ### BEGINNING OF YOUR CODE\n",
    "    pd = partial_optimal_transport(domain, Y, nu)\n",
    "    \n",
    "    descent_direction = np.zeros_like(Y)\n",
    "    descent_direction[:, 1] = -1\n",
    "    Y = Y + timestep*(descent_direction + (pd.centroids()-Y)/epsilon)\n",
    "    ### END OF YOUR CODE\n",
    "\n",
    "    Y_hist.append(pd.get_positions().copy())\n",
    "    psi_hist.append(pd.get_weights().copy())\n",
    "\n",
    "pd = PowerDiagram(Y_hist, psi_hist, domain, RadialFuncInBall())\n",
    "display(pd.display_jupyter(disp_ids=False, disp_centroids=False))"
   ]
  },
  {
   "cell_type": "markdown",
   "metadata": {
    "colab_type": "text",
    "id": "Tw555yQ10wRB"
   },
   "source": [
    "**Q11** In the following code, the domain is described by an image ($\\Omega$ is the union of white pixels), and the potential $V$ is the geodesic distance to a point in the domain. Complete and test the following implementation:"
   ]
  },
  {
   "cell_type": "code",
   "execution_count": null,
   "metadata": {
    "colab": {},
    "colab_type": "code",
    "id": "BE2bkAtEP4Fc"
   },
   "outputs": [],
   "source": [
    "# Uncomment the following line if you're using colab.research.google\n",
    "# !pip install scikit-fmm"
   ]
  },
  {
   "cell_type": "code",
   "execution_count": null,
   "metadata": {
    "colab": {
     "base_uri": "https://localhost:8080/",
     "height": 420
    },
    "colab_type": "code",
    "id": "EZ9gZwPkN0CR",
    "outputId": "d762b29b-e3fb-4937-9856-938094e55bb4"
   },
   "outputs": [],
   "source": [
    "from pysdot.util import FastMarching\n",
    "\n",
    "# constants\n",
    "N = 100 # nb diracs\n",
    "b = 0.33 # initial box size\n",
    "m = b**2 / N\n",
    "nu = m * np.ones( N ) # masses\n",
    "epsilon = 1.0 * m**0.5\n",
    "timestep = epsilon / 2\n",
    "\n",
    "# initial positions\n",
    "Y, psi = optimal_quantization(make_square([0,0,b,b]), b * np.random.rand(N, 2))\n",
    "\n",
    "# domain\n",
    "img = np.array([\n",
    "    [1, 0, 1],\n",
    "    [1, 1, 1],\n",
    "    [1, 0, 1]\n",
    "])\n",
    "domain = ScaledImage([0, 0], [1, 1], img)\n",
    "\n",
    "# fast marching\n",
    "fm = FastMarching(domain, [[0.9,0.1]], 0.01)\n",
    "\n",
    "# iterations\n",
    "Y_hist = []\n",
    "psi_hist = []\n",
    "for num_time_step in range(100):\n",
    "    pd = partial_optimal_transport(domain, Y, nu)\n",
    "    if num_time_step % 2 == 0:\n",
    "        Y_hist.append(pd.get_positions().copy())\n",
    "        psi_hist.append(pd.get_weights().copy())\n",
    "\n",
    "    # grad V\n",
    "    descent_direction = np.zeros_like(Y)\n",
    "    for n in range(Y.shape[0]):\n",
    "        descent_direction[n, :] = fm.grad(Y[n, :], 0.1)\n",
    "    \n",
    "    ### BEGINNING OF YOUR CODE\n",
    "    Y += timestep*(descent_direction + (pd.centroids()-Y)/epsilon)\n",
    "    ### END OF YOUR CODE\n",
    "\n",
    "\n",
    "\n",
    "pd = PowerDiagram(Y_hist, psi_hist, domain, RadialFuncInBall())\n",
    "display(pd.display_jupyter(disp_ids=False, disp_centroids=False))"
   ]
  },
  {
   "cell_type": "markdown",
   "metadata": {
    "colab_type": "text",
    "id": "6nubKM8kb6Au"
   },
   "source": [
    "### Approximation of partial optimal transport\n"
   ]
  },
  {
   "cell_type": "markdown",
   "metadata": {
    "colab_type": "text",
    "id": "tv9eyDiBlzDY"
   },
   "source": [
    "\n",
    "Computing the intersection between a ball and a convex polygon\n",
    "efficiently is rather tedious, but we can resort to an\n",
    "approximation. Let $Z \\subseteq \\Omega$ be a finite subset which is\n",
    "$\\eta$-dense in the sense that $\\Omega\\subseteq \\cup_{z\\in P} B(z,\\eta)$.\n",
    "We consider an approximation of the previous problem, denoted using\n",
    "hats instead of tildes. We keep the point at infinity $\\hat{I} =\n",
    "I\\cup\\{+\\infty\\}$, $\\hat{\\nu} = \\widetilde{\\nu}$ but we set\n",
    "\n",
    "$$ \\hat{c}(x,y_i) = \\begin{cases}\n",
    "  \\nr{x - y_i}^2 & \\hbox{ if } i\\in I\\\\\n",
    "  \\min_{z\\in Z} \\nr{z - x}^2 &\\hbox{ if } i=+\\infty\n",
    "\\end{cases}\n",
    "$$\n",
    "\n",
    "We define $\\hat{G}_i(\\hat{\\psi}) = \\rho(\\hat{\\Lag}_i(\\psi))$ and\n",
    "the Laguerre cell  $\\hat{\\Lag}_i$ accordingly:\n",
    "\n",
    "$$ \\hat{\\Lag}_i(\\hat{\\psi}) = \\{ x\\in \\Omega \\mid \\forall j\\in \\hat{I}, \\hat{c}(x,y_i) + \\psi_j \\leq \\hat{c}(x,y_j) + \\psi_j\\}.$$\n",
    "\n",
    "**Q12.** Prove that $\\tilde{c}\\leq \\hat{c} \\leq \\tilde{c} + \\eta^2$\n",
    "  (explaining why the problem with $\\hat{c}$ is an approximation of\n",
    "  the problem with $\\tilde{c}$). Prove that if $Z = \\{z_1,\\hdots,z_M\\}$, then\n",
    "  \n",
    "  \\begin{align*}\n",
    "    \\forall i\\in\\{1,\\hdots,N\\},~\\hat{\\Lag}_i(\\psi) =\n",
    "    \\Lag_i(y_1,\\hdots,y_N, z_1,\\hdots,z_N;\n",
    "    \\psi_1,\\hdots,\\psi_N,\\psi_\\infty,\\hdots,\\psi_\\infty),\n",
    "  \\end{align*}\n",
    "  \n",
    "where  $\\psi_\\infty$ is repeated $N$ times.\n",
    "  \n",
    "In other words, $\\hat{\\Lag}_i(\\psi)$ turns out to be a usual Laguerre\n",
    "cell, for the quadratic cost. The value of $\\hat{G}_i(\\psi) =\n",
    "\\rho(\\hat{\\Lag}_i(\\psi))$ and its gradient with respect to $\\psi$ can\n",
    "therefore be easily computed using `laguerre_areas`. We can\n",
    "now adapt the backtracking Newton algorithm used in the function\n",
    "`optimal_transport` to the (approximated) partial transport\n",
    "setting, by setting\n",
    "\n",
    "$$\\begin{aligned} F: \\Rsp^N&\\to\\Rsp^N \\\\\n",
    "  (\\psi_1,\\hdots,\\psi_N) &\\mapsto (\\hat{G}_i(\\psi_i,\\hdots,\\psi_N, 0, \\hdots, 0))_{1\\leq i\\leq N}\n",
    "\\end{aligned}\n",
    "$$\n",
    "\n",
    "where $0$ is repeated $N$ times. As in the first part, the matrix $\\D F(\\psi)$ will be invertible\n",
    "provided that $\\psi\\in \\mathcal{K}$, where\n",
    "\n",
    "$$\\mathcal{K} = \\{ \\psi\\in\\Rsp^{N} \\mid \\forall i\n",
    "\\in\\{1,\\hdots, N\\},\\quad F_i(\\psi)  > 0 \\}.\n",
    "$$\n",
    "\n",
    "**Q13.** Taking inspiration from `optimal_transport`, write a function for partial optimal transport: \n",
    "  `partial_transport(domain,Y,nu,Z)` where `domain`,`Y`,`nu` are as before\n",
    "  (except that $\\sum_i \\nu_i$ is now strictly less than the area of\n",
    " $\\Omega$), and $Z$ is a $M\\times 2$ matrix whose rows are the\n",
    "  points in $Z$. Try it in the following setting $Z$ is a $M=20^2$\n",
    "  uniform grid in $\\Omega = [-1,1]^2$, $Y$ is a random iid point cloud with\n",
    "  cardinal $N=100$. One can display the result by showing the Laguerre\n",
    "  cells with a color depending on whether they correspond to a point\n",
    "  in $Y$ or $Z$."
   ]
  },
  {
   "cell_type": "code",
   "execution_count": null,
   "metadata": {
    "colab": {
     "base_uri": "https://localhost:8080/",
     "height": 589
    },
    "colab_type": "code",
    "id": "cjkOvd-W6sTA",
    "outputId": "495ff0d1-93a7-43fb-d55c-5934f87efce2"
   },
   "outputs": [],
   "source": [
    "from pysdot.radial_funcs import RadialFuncInBall\n",
    "from pysdot import OptimalTransport\n",
    "\n",
    "N = 100\n",
    "L = 2.0\n",
    "np.random.seed(0)\n",
    "Y = np.random.rand(N,2)\n",
    "nu = 1.5**2 / N * np.ones(N)\n",
    "psi = np.zeros(N)\n",
    "domain = make_square([0,0,L,L])\n",
    "\n",
    "M = 25\n",
    "x = np.linspace(0, L, M)\n",
    "y = np.linspace(0, L, M)\n",
    "Z = np.vstack([v.flatten() for v in np.meshgrid(x, y)]).transpose()\n",
    "\n",
    "dlt_psi = None\n",
    "for it in range(100):\n",
    "    ### BEGINNING OF YOUR CODE\n",
    "    P = np.vstack((Y, Z))\n",
    "    W = np.hstack((psi, np.zeros(M**2)))\n",
    "    ad = laguerre_areas(domain, P, W, der=True)\n",
    "    if np.min(ad[0][:N]) == 0:\n",
    "        dlt_psi /= 2\n",
    "        psi += dlt_psi\n",
    "        continue\n",
    "        \n",
    "    ad[0][:N] -= nu\n",
    "    print(\"it=%d: |F - nu| = %g\" % (it, np.linalg.norm(ad[0][:N])))\n",
    "    if np.linalg.norm(ad[0][:N]) <= 1e-6:\n",
    "        break\n",
    "        \n",
    "    dlt_psi = spsolve(ad[1][:N,:N], ad[0][:N])\n",
    "    psi -= dlt_psi\n",
    "    ### END OF YOUR CODE\n",
    "\n",
    "P = np.vstack((Y, Z))\n",
    "W = np.hstack((psi, np.zeros(M**2)))\n",
    "laguerre_draw(domain, P, W, hide_after=N)"
   ]
  },
  {
   "cell_type": "code",
   "execution_count": null,
   "metadata": {
    "colab": {},
    "colab_type": "code",
    "id": "B2yGJQiC8QJT"
   },
   "outputs": [],
   "source": []
  }
 ],
 "metadata": {
  "colab": {
   "collapsed_sections": [],
   "name": "tp_ot_05_2019.ipynb",
   "provenance": [],
   "toc_visible": true,
   "version": "0.3.2"
  },
  "kernelspec": {
   "display_name": "Python 3",
   "language": "python",
   "name": "python3"
  },
  "language_info": {
   "codemirror_mode": {
    "name": "ipython",
    "version": 3
   },
   "file_extension": ".py",
   "mimetype": "text/x-python",
   "name": "python",
   "nbconvert_exporter": "python",
   "pygments_lexer": "ipython3",
   "version": "3.7.3"
  }
 },
 "nbformat": 4,
 "nbformat_minor": 1
}
